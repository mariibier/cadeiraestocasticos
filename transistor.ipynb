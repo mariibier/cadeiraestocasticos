{
  "nbformat": 4,
  "nbformat_minor": 0,
  "metadata": {
    "colab": {
      "name": "transistor.ipynb",
      "provenance": [],
      "collapsed_sections": [],
      "authorship_tag": "ABX9TyOB3GeQhVu8XeyBWX80BojQ",
      "include_colab_link": true
    },
    "kernelspec": {
      "name": "python3",
      "display_name": "Python 3"
    },
    "language_info": {
      "name": "python"
    }
  },
  "cells": [
    {
      "cell_type": "markdown",
      "metadata": {
        "id": "view-in-github",
        "colab_type": "text"
      },
      "source": [
        "<a href=\"https://colab.research.google.com/github/mariibier/cadeiraestocasticos/blob/main/transistor.ipynb\" target=\"_parent\"><img src=\"https://colab.research.google.com/assets/colab-badge.svg\" alt=\"Open In Colab\"/></a>"
      ]
    },
    {
      "cell_type": "code",
      "metadata": {
        "colab": {
          "base_uri": "https://localhost:8080/",
          "height": 132
        },
        "id": "AlCYRZybXcVZ",
        "outputId": "233986f5-c525-4218-a1af-341d8aeb4478"
      },
      "source": [
        "import numpy as np\n",
        "import numpy.random \n",
        "import random\n",
        "import numpy.linalg \n",
        " \n",
        "\n",
        "def amt():\n",
        "    rd = np.arange(-1.2, 1.200001, 0.00001)\n",
        "    listasomas = np.zeros(3)\n",
        "    for val in range(10):\n",
        "      for val in range(100000):    \n",
        "        x = random.randint(0, 240000)\n",
        "        k = rd[x]\n",
        "        lista = [0, 3]\n",
        "        random.shuffle(lista)\n",
        "        y = lista[0]\n",
        "        soma = k + y  \n",
        "        if soma > 0.8 and soma < 2:\n",
        "            listasomas [2] +=1\n",
        "    Emedio = listasomas[2] /10\n",
        "    ERRO = (Emedio*100)/100000\n",
        "    print(ERRO, \"% de erro\")\n",
        "amt()\n",
        "\n"
      ],
      "execution_count": 46,
      "outputs": [
        {
          "output_type": "error",
          "ename": "SyntaxError",
          "evalue": "ignored",
          "traceback": [
            "\u001b[0;36m  File \u001b[0;32m\"<ipython-input-46-8db71cc4f629>\"\u001b[0;36m, line \u001b[0;32m11\u001b[0m\n\u001b[0;31m    else entrada > 2 and entrada < 5:\u001b[0m\n\u001b[0m               ^\u001b[0m\n\u001b[0;31mSyntaxError\u001b[0m\u001b[0;31m:\u001b[0m invalid syntax\n"
          ]
        }
      ]
    }
  ]
}