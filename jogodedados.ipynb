{
  "nbformat": 4,
  "nbformat_minor": 0,
  "metadata": {
    "colab": {
      "name": "jogodedados.ipynb",
      "provenance": [],
      "collapsed_sections": [],
      "authorship_tag": "ABX9TyMUT/Svnj6hOnqWP9mdqNbe",
      "include_colab_link": true
    },
    "kernelspec": {
      "name": "python3",
      "display_name": "Python 3"
    },
    "language_info": {
      "name": "python"
    }
  },
  "cells": [
    {
      "cell_type": "markdown",
      "metadata": {
        "id": "view-in-github",
        "colab_type": "text"
      },
      "source": [
        "<a href=\"https://colab.research.google.com/github/mariibier/cadeiraestocasticos/blob/main/jogodedados.ipynb\" target=\"_parent\"><img src=\"https://colab.research.google.com/assets/colab-badge.svg\" alt=\"Open In Colab\"/></a>"
      ]
    },
    {
      "cell_type": "markdown",
      "metadata": {
        "id": "B7IEf4pRlvOR"
      },
      "source": [
        "Jogo de dados com 3 dados de 6 faces não viciados em que a vitória se dará pelo resultado da soma\n"
      ]
    },
    {
      "cell_type": "code",
      "metadata": {
        "id": "cGak9cdR_z1o"
      },
      "source": [
        "import numpy as np\n",
        "import matplotlib.pyplot as plt\n",
        "import random\n"
      ],
      "execution_count": 2,
      "outputs": []
    },
    {
      "cell_type": "markdown",
      "metadata": {
        "id": "q3GoMgvnj0kC"
      },
      "source": [
        "**1**.Espaço amostral para 3 dados com 6 faces e não viciados:"
      ]
    },
    {
      "cell_type": "code",
      "metadata": {
        "colab": {
          "base_uri": "https://localhost:8080/"
        },
        "id": "NNTR2XwtlsBG",
        "outputId": "c780fba9-194c-4ed8-fd9b-fde6a4d9b8a5"
      },
      "source": [
        "nfaces = 6\n",
        "dados = 3\n",
        "N = (nfaces ** dados)\n",
        "\n",
        "espacoamostral = np.zeros((N,dados))\n",
        "for i in range(1,nfaces+1):\n",
        "  for j in range(1,nfaces+1):\n",
        "    for k in range(1,nfaces+1):\n",
        "      espacoamostral[(i-1)*nfaces**2 + (j-1)*nfaces + (k-1),0] = i\n",
        "      espacoamostral[(i-1)*nfaces**2 + (j-1)*nfaces + (k-1),1] = j\n",
        "      espacoamostral[(i-1)*nfaces**2 + (j-1)*nfaces + (k-1),2] = k\n"
      ],
      "execution_count": 10,
      "outputs": [
        {
          "output_type": "stream",
          "text": [
            "[[1. 1. 1.]\n",
            " [1. 1. 2.]\n",
            " [1. 1. 3.]\n",
            " [1. 1. 4.]\n",
            " [1. 1. 5.]\n",
            " [1. 1. 6.]\n",
            " [1. 2. 1.]\n",
            " [1. 2. 2.]\n",
            " [1. 2. 3.]\n",
            " [1. 2. 4.]\n",
            " [1. 2. 5.]\n",
            " [1. 2. 6.]\n",
            " [1. 3. 1.]\n",
            " [1. 3. 2.]\n",
            " [1. 3. 3.]\n",
            " [1. 3. 4.]\n",
            " [1. 3. 5.]\n",
            " [1. 3. 6.]\n",
            " [1. 4. 1.]\n",
            " [1. 4. 2.]\n",
            " [1. 4. 3.]\n",
            " [1. 4. 4.]\n",
            " [1. 4. 5.]\n",
            " [1. 4. 6.]\n",
            " [1. 5. 1.]\n",
            " [1. 5. 2.]\n",
            " [1. 5. 3.]\n",
            " [1. 5. 4.]\n",
            " [1. 5. 5.]\n",
            " [1. 5. 6.]\n",
            " [1. 6. 1.]\n",
            " [1. 6. 2.]\n",
            " [1. 6. 3.]\n",
            " [1. 6. 4.]\n",
            " [1. 6. 5.]\n",
            " [1. 6. 6.]\n",
            " [2. 1. 1.]\n",
            " [2. 1. 2.]\n",
            " [2. 1. 3.]\n",
            " [2. 1. 4.]\n",
            " [2. 1. 5.]\n",
            " [2. 1. 6.]\n",
            " [2. 2. 1.]\n",
            " [2. 2. 2.]\n",
            " [2. 2. 3.]\n",
            " [2. 2. 4.]\n",
            " [2. 2. 5.]\n",
            " [2. 2. 6.]\n",
            " [2. 3. 1.]\n",
            " [2. 3. 2.]\n",
            " [2. 3. 3.]\n",
            " [2. 3. 4.]\n",
            " [2. 3. 5.]\n",
            " [2. 3. 6.]\n",
            " [2. 4. 1.]\n",
            " [2. 4. 2.]\n",
            " [2. 4. 3.]\n",
            " [2. 4. 4.]\n",
            " [2. 4. 5.]\n",
            " [2. 4. 6.]\n",
            " [2. 5. 1.]\n",
            " [2. 5. 2.]\n",
            " [2. 5. 3.]\n",
            " [2. 5. 4.]\n",
            " [2. 5. 5.]\n",
            " [2. 5. 6.]\n",
            " [2. 6. 1.]\n",
            " [2. 6. 2.]\n",
            " [2. 6. 3.]\n",
            " [2. 6. 4.]\n",
            " [2. 6. 5.]\n",
            " [2. 6. 6.]\n",
            " [3. 1. 1.]\n",
            " [3. 1. 2.]\n",
            " [3. 1. 3.]\n",
            " [3. 1. 4.]\n",
            " [3. 1. 5.]\n",
            " [3. 1. 6.]\n",
            " [3. 2. 1.]\n",
            " [3. 2. 2.]\n",
            " [3. 2. 3.]\n",
            " [3. 2. 4.]\n",
            " [3. 2. 5.]\n",
            " [3. 2. 6.]\n",
            " [3. 3. 1.]\n",
            " [3. 3. 2.]\n",
            " [3. 3. 3.]\n",
            " [3. 3. 4.]\n",
            " [3. 3. 5.]\n",
            " [3. 3. 6.]\n",
            " [3. 4. 1.]\n",
            " [3. 4. 2.]\n",
            " [3. 4. 3.]\n",
            " [3. 4. 4.]\n",
            " [3. 4. 5.]\n",
            " [3. 4. 6.]\n",
            " [3. 5. 1.]\n",
            " [3. 5. 2.]\n",
            " [3. 5. 3.]\n",
            " [3. 5. 4.]\n",
            " [3. 5. 5.]\n",
            " [3. 5. 6.]\n",
            " [3. 6. 1.]\n",
            " [3. 6. 2.]\n",
            " [3. 6. 3.]\n",
            " [3. 6. 4.]\n",
            " [3. 6. 5.]\n",
            " [3. 6. 6.]\n",
            " [4. 1. 1.]\n",
            " [4. 1. 2.]\n",
            " [4. 1. 3.]\n",
            " [4. 1. 4.]\n",
            " [4. 1. 5.]\n",
            " [4. 1. 6.]\n",
            " [4. 2. 1.]\n",
            " [4. 2. 2.]\n",
            " [4. 2. 3.]\n",
            " [4. 2. 4.]\n",
            " [4. 2. 5.]\n",
            " [4. 2. 6.]\n",
            " [4. 3. 1.]\n",
            " [4. 3. 2.]\n",
            " [4. 3. 3.]\n",
            " [4. 3. 4.]\n",
            " [4. 3. 5.]\n",
            " [4. 3. 6.]\n",
            " [4. 4. 1.]\n",
            " [4. 4. 2.]\n",
            " [4. 4. 3.]\n",
            " [4. 4. 4.]\n",
            " [4. 4. 5.]\n",
            " [4. 4. 6.]\n",
            " [4. 5. 1.]\n",
            " [4. 5. 2.]\n",
            " [4. 5. 3.]\n",
            " [4. 5. 4.]\n",
            " [4. 5. 5.]\n",
            " [4. 5. 6.]\n",
            " [4. 6. 1.]\n",
            " [4. 6. 2.]\n",
            " [4. 6. 3.]\n",
            " [4. 6. 4.]\n",
            " [4. 6. 5.]\n",
            " [4. 6. 6.]\n",
            " [5. 1. 1.]\n",
            " [5. 1. 2.]\n",
            " [5. 1. 3.]\n",
            " [5. 1. 4.]\n",
            " [5. 1. 5.]\n",
            " [5. 1. 6.]\n",
            " [5. 2. 1.]\n",
            " [5. 2. 2.]\n",
            " [5. 2. 3.]\n",
            " [5. 2. 4.]\n",
            " [5. 2. 5.]\n",
            " [5. 2. 6.]\n",
            " [5. 3. 1.]\n",
            " [5. 3. 2.]\n",
            " [5. 3. 3.]\n",
            " [5. 3. 4.]\n",
            " [5. 3. 5.]\n",
            " [5. 3. 6.]\n",
            " [5. 4. 1.]\n",
            " [5. 4. 2.]\n",
            " [5. 4. 3.]\n",
            " [5. 4. 4.]\n",
            " [5. 4. 5.]\n",
            " [5. 4. 6.]\n",
            " [5. 5. 1.]\n",
            " [5. 5. 2.]\n",
            " [5. 5. 3.]\n",
            " [5. 5. 4.]\n",
            " [5. 5. 5.]\n",
            " [5. 5. 6.]\n",
            " [5. 6. 1.]\n",
            " [5. 6. 2.]\n",
            " [5. 6. 3.]\n",
            " [5. 6. 4.]\n",
            " [5. 6. 5.]\n",
            " [5. 6. 6.]\n",
            " [6. 1. 1.]\n",
            " [6. 1. 2.]\n",
            " [6. 1. 3.]\n",
            " [6. 1. 4.]\n",
            " [6. 1. 5.]\n",
            " [6. 1. 6.]\n",
            " [6. 2. 1.]\n",
            " [6. 2. 2.]\n",
            " [6. 2. 3.]\n",
            " [6. 2. 4.]\n",
            " [6. 2. 5.]\n",
            " [6. 2. 6.]\n",
            " [6. 3. 1.]\n",
            " [6. 3. 2.]\n",
            " [6. 3. 3.]\n",
            " [6. 3. 4.]\n",
            " [6. 3. 5.]\n",
            " [6. 3. 6.]\n",
            " [6. 4. 1.]\n",
            " [6. 4. 2.]\n",
            " [6. 4. 3.]\n",
            " [6. 4. 4.]\n",
            " [6. 4. 5.]\n",
            " [6. 4. 6.]\n",
            " [6. 5. 1.]\n",
            " [6. 5. 2.]\n",
            " [6. 5. 3.]\n",
            " [6. 5. 4.]\n",
            " [6. 5. 5.]\n",
            " [6. 5. 6.]\n",
            " [6. 6. 1.]\n",
            " [6. 6. 2.]\n",
            " [6. 6. 3.]\n",
            " [6. 6. 4.]\n",
            " [6. 6. 5.]\n",
            " [6. 6. 6.]]\n",
            "[ 3  4  5  6  7  8  4  5  6  7  8  9  5  6  7  8  9 10  6  7  8  9 10 11\n",
            "  7  8  9 10 11 12  8  9 10 11 12 13  4  5  6  7  8  9  5  6  7  8  9 10\n",
            "  6  7  8  9 10 11  7  8  9 10 11 12  8  9 10 11 12 13  9 10 11 12 13 14\n",
            "  5  6  7  8  9 10  6  7  8  9 10 11  7  8  9 10 11 12  8  9 10 11 12 13\n",
            "  9 10 11 12 13 14 10 11 12 13 14 15  6  7  8  9 10 11  7  8  9 10 11 12\n",
            "  8  9 10 11 12 13  9 10 11 12 13 14 10 11 12 13 14 15 11 12 13 14 15 16\n",
            "  7  8  9 10 11 12  8  9 10 11 12 13  9 10 11 12 13 14 10 11 12 13 14 15\n",
            " 11 12 13 14 15 16 12 13 14 15 16 17  8  9 10 11 12 13  9 10 11 12 13 14\n",
            " 10 11 12 13 14 15 11 12 13 14 15 16 12 13 14 15 16 17 13 14 15 16 17 18]\n"
          ],
          "name": "stdout"
        }
      ]
    },
    {
      "cell_type": "markdown",
      "metadata": {
        "id": "4Rd_HTQoqrAO"
      },
      "source": [
        "**2.**"
      ]
    },
    {
      "cell_type": "code",
      "metadata": {
        "colab": {
          "base_uri": "https://localhost:8080/"
        },
        "id": "t3abd4bHoaZ_",
        "outputId": "e5813c5b-758d-4399-8050-515e4300f2d7"
      },
      "source": [
        "somafaces = np.sum (espacoamostral,axis=1,dtype=int)     \n",
        "print(somafaces)"
      ],
      "execution_count": 11,
      "outputs": [
        {
          "output_type": "stream",
          "text": [
            "[ 3  4  5  6  7  8  4  5  6  7  8  9  5  6  7  8  9 10  6  7  8  9 10 11\n",
            "  7  8  9 10 11 12  8  9 10 11 12 13  4  5  6  7  8  9  5  6  7  8  9 10\n",
            "  6  7  8  9 10 11  7  8  9 10 11 12  8  9 10 11 12 13  9 10 11 12 13 14\n",
            "  5  6  7  8  9 10  6  7  8  9 10 11  7  8  9 10 11 12  8  9 10 11 12 13\n",
            "  9 10 11 12 13 14 10 11 12 13 14 15  6  7  8  9 10 11  7  8  9 10 11 12\n",
            "  8  9 10 11 12 13  9 10 11 12 13 14 10 11 12 13 14 15 11 12 13 14 15 16\n",
            "  7  8  9 10 11 12  8  9 10 11 12 13  9 10 11 12 13 14 10 11 12 13 14 15\n",
            " 11 12 13 14 15 16 12 13 14 15 16 17  8  9 10 11 12 13  9 10 11 12 13 14\n",
            " 10 11 12 13 14 15 11 12 13 14 15 16 12 13 14 15 16 17 13 14 15 16 17 18]\n"
          ],
          "name": "stdout"
        }
      ]
    },
    {
      "cell_type": "markdown",
      "metadata": {
        "id": "dwBV5A4Ytjct"
      },
      "source": [
        "**3.**"
      ]
    },
    {
      "cell_type": "code",
      "metadata": {
        "colab": {
          "base_uri": "https://localhost:8080/",
          "height": 279
        },
        "id": "23vz4_3Nqwv8",
        "outputId": "f8a00cd3-4e4e-412f-bc88-7d6eb4663723"
      },
      "source": [
        "probsomafaces = np.zeros(3*nfaces+1)\n",
        "for i in range(len(somafaces)):\n",
        "  probsomafaces[somafaces[i]] = probsomafaces[somafaces[i]] +1\n",
        "probsomafaces = probsomafaces/(nfaces**3)\n",
        "\n",
        "plt.stem( range(len(probsomafaces)),probsomafaces, use_line_collection=True)\n",
        "plt.xlabel('soma das faces')\n",
        "plt.ylabel('probabilidade de ocorrência')\n",
        "plt.xticks(range(len(probsomafaces)))\n",
        "plt.grid('both')"
      ],
      "execution_count": 12,
      "outputs": [
        {
          "output_type": "display_data",
          "data": {
            "image/png": "[encoded data removed]",
            "text/plain": [
              "<Figure size 432x288 with 1 Axes>"
            ]
          },
          "metadata": {
            "tags": [],
            "needs_background": "light"
          }
        }
      ]
    },
    {
      "cell_type": "code",
      "metadata": {
        "id": "PwClf643riwP"
      },
      "source": [
        "\n",
        "nexperimentos = 50000\n",
        "simulacao = np.zeros(3*nfaces+1)\n",
        "# Para cada experimento\n",
        "for i in range(nexperimentos):\n",
        "#inicializa a soma das faces e realiza três sorteios aleatórios de variáveis \n",
        "#inteiras entre 1 e 6 com distribuição uniforme (dados não viciados). Adiciona \n",
        "#uma ocorrencia no vetor simulacao no resultado da soma sorteada\n",
        "  soma = 0\n",
        "  for j in range(3):\n",
        "    soma = soma + random.randint(1,nfaces)\n",
        "  simulacao[soma] = simulacao[soma] +1\n",
        "#ao final do sorteio, divide o numero de ocorrencias pelo total de experimentos \n",
        "#para verificar a frequência obtida de cada soma  \n",
        "simulacao = simulacao/nexperimentos"
      ],
      "execution_count": 13,
      "outputs": []
    },
    {
      "cell_type": "markdown",
      "metadata": {
        "id": "DyMOaDeftsj9"
      },
      "source": [
        "**4.** Próximo a simulação"
      ]
    },
    {
      "cell_type": "code",
      "metadata": {
        "colab": {
          "base_uri": "https://localhost:8080/",
          "height": 279
        },
        "id": "FGFpE3BsrsGE",
        "outputId": "6b024734-a166-47cd-f0df-c3f1d139f57a"
      },
      "source": [
        "plt.stem( range(len(probsomafaces)),probsomafaces, use_line_collection=True)\n",
        "plt.scatter( range(len(probsomafaces)),simulacao, c='r')\n",
        "\n",
        "plt.xlabel('soma das faces')\n",
        "plt.ylabel('probabilidade de ocorrência')\n",
        "plt.xticks(range(len(probsomafaces)))\n",
        "plt.grid('both')"
      ],
      "execution_count": 14,
      "outputs": [
        {
          "output_type": "display_data",
          "data": {
            "image/png": "[encoded data removed]",
            "text/plain": [
              "<Figure size 432x288 with 1 Axes>"
            ]
          },
          "metadata": {
            "tags": [],
            "needs_background": "light"
          }
        }
      ]
    }
  ]
}